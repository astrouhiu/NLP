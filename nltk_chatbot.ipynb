{
 "cells": [
  {
   "cell_type": "markdown",
   "id": "4875aeb7",
   "metadata": {},
   "source": [
    "# Chatbot"
   ]
  },
  {
   "cell_type": "markdown",
   "id": "b3ef8a86",
   "metadata": {},
   "source": [
    "Chatbots are considered one of the most useful applications of NLP. We are going to create a simple rule-based chatbot using the `nltk` (*Natural Language Toolkit*) library."
   ]
  },
  {
   "cell_type": "markdown",
   "id": "bab46f86",
   "metadata": {},
   "source": [
    "## Building the Chatbot"
   ]
  },
  {
   "cell_type": "markdown",
   "id": "2ead7cad",
   "metadata": {},
   "source": [
    "We use the `nltk.chat` module to import the required utilities. \n",
    "\n",
    "- Utility `Chat` is a class that provides logic for building the chatbot. \n",
    "- `reflections` is a dictionary that contains a set of input text and its corresponding output values, this is an optional dictionary and you can create your own dictionary in the same format."
   ]
  },
  {
   "cell_type": "code",
   "execution_count": 1,
   "id": "01db41db",
   "metadata": {},
   "outputs": [
    {
     "name": "stdout",
     "output_type": "stream",
     "text": [
      "<class 'nltk.chat.util.Chat'>\n",
      "Examining the dictionary: {'i am': 'you are', 'i was': 'you were', 'i': 'you', \"i'm\": 'you are', \"i'd\": 'you would', \"i've\": 'you have', \"i'll\": 'you will', 'my': 'your', 'you are': 'I am', 'you were': 'I was', \"you've\": 'I have', \"you'll\": 'I will', 'your': 'my', 'yours': 'mine', 'you': 'me', 'me': 'you'}\n"
     ]
    }
   ],
   "source": [
    "# Baseline libraries\n",
    "import nltk\n",
    "from nltk.chat.util import Chat, reflections\n",
    "\n",
    "print(Chat)\n",
    "\n",
    "print('Examining the dictionary:', reflections)"
   ]
  },
  {
   "cell_type": "markdown",
   "id": "e5a30343",
   "metadata": {},
   "source": [
    "We create rules that will be used to train the chatbot. These are lists in the `set_pairs` variable containing the user input and the response from the bot."
   ]
  },
  {
   "cell_type": "code",
   "execution_count": 2,
   "id": "a2e46f0a",
   "metadata": {},
   "outputs": [],
   "source": [
    "# Set of rules\n",
    "set_pairs = [\n",
    "    [\n",
    "        r\"my name is (.*)\",\n",
    "        [\"Hello %1, How are you doing today?\"]\n",
    "    ],\n",
    "    [\n",
    "        r\"hi|hey|hello\",\n",
    "        [\"Hello!\", \"Hey there!\"]\n",
    "    ], \n",
    "    [\n",
    "        r\"what is your name?\",\n",
    "        [\"You can call me a chatbot?\"]\n",
    "    ],\n",
    "    [\n",
    "        r\"how are you?\",\n",
    "        [\"I am fine, thank you! How can I help you?\"]\n",
    "    ],\n",
    "    [\n",
    "        r\"I am fine, thank you\",\n",
    "        [\"Great to hear that, how can I help you?\"]\n",
    "    ],\n",
    "    [\n",
    "        r\"i'm (.*) doing good\",\n",
    "        [\"%1 That's great to hear.\", \"How can I help you? :)\"]\n",
    "    ],\n",
    "    [\n",
    "        r\"what is the data science scenario in brazil today?\",\n",
    "        [\"The states of São Paulo, Minas and Rio de Janeiro together account for 62 percent of professionals in Brazil.\", \n",
    "         \"Only 17 percent are women.\", \n",
    "         \"Professionals have mostly graduated or bachelor's degrees, 21 percent of them are still undergraduate students.\", \n",
    "         \"The average age of the Data Science professional is approximately 30 years old.\", \n",
    "         \"Python is the most used programming language. The difference between R and Python is really significant.\"]\n",
    "    ],\n",
    "    [\n",
    "        r\"(.*) thank you so much, that was helpful\",\n",
    "        [\"I am happy to help.\", \"No problem, you're welcome.\"]\n",
    "    ],\n",
    "    [\n",
    "        r\"quit\",\n",
    "        [\"Bye, take care. See you soon :)\", \"It was nice talking to you. See you soon :)\"]\n",
    "    ],\n",
    "]"
   ]
  },
  {
   "cell_type": "markdown",
   "id": "36cc289c",
   "metadata": {},
   "source": [
    "We instantiate the `Chat()` function containing the pairs and reflections."
   ]
  },
  {
   "cell_type": "code",
   "execution_count": 3,
   "id": "a037731d",
   "metadata": {},
   "outputs": [
    {
     "name": "stdout",
     "output_type": "stream",
     "text": [
      "<nltk.chat.util.Chat object at 0x7fc84c369640>\n"
     ]
    }
   ],
   "source": [
    "chat = Chat(set_pairs, reflections)\n",
    "print(chat)"
   ]
  },
  {
   "cell_type": "markdown",
   "id": "6a237a51",
   "metadata": {},
   "source": [
    "We define a function which prints a message whenever it is invoked."
   ]
  },
  {
   "cell_type": "code",
   "execution_count": 4,
   "id": "b8b0c0c6",
   "metadata": {},
   "outputs": [
    {
     "name": "stdout",
     "output_type": "stream",
     "text": [
      "I'm the chatbot you built!\n"
     ]
    }
   ],
   "source": [
    "def chatbot():\n",
    "    print(\"I'm the chatbot you built!\") \n",
    "\n",
    "chatbot()"
   ]
  },
  {
   "cell_type": "markdown",
   "id": "05a85fb1",
   "metadata": {},
   "source": [
    "## Conversation"
   ]
  },
  {
   "cell_type": "markdown",
   "id": "929a81f3",
   "metadata": {},
   "source": [
    "The last step is to initiate the conversation. The `converse` function triggers the conversation. You can interact with the chatbot. Type in the box and you'll get the response from the bot. You can quit the conversation once you are done."
   ]
  },
  {
   "cell_type": "code",
   "execution_count": 5,
   "id": "5b86fe39",
   "metadata": {},
   "outputs": [
    {
     "name": "stdout",
     "output_type": "stream",
     "text": [
      ">Hello\n",
      "Hello!\n",
      ">My name is my secret\n",
      "Hello your secret, How are you doing today?\n",
      ">I'm .... doing good\n",
      ".... That's great to hear.\n",
      ">What is the Data Science scenario in Brazil today?\n",
      "Python is the most used programming language. The difference between R and Python is really significant.\n",
      ">Oh, thank you so much, that was helpful\n",
      "I am happy to help.\n",
      ">quit\n",
      "It was nice talking to you. See you soon :)\n",
      "I'm the chatbot you built!\n"
     ]
    }
   ],
   "source": [
    "chat.converse()\n",
    "if __name__ == \"__main__\":\n",
    "    chatbot()"
   ]
  },
  {
   "cell_type": "markdown",
   "id": "450f578f",
   "metadata": {},
   "source": [
    "## Reference"
   ]
  },
  {
   "cell_type": "markdown",
   "id": "5dd1b94b",
   "metadata": {},
   "source": [
    "- https://www.nltk.org/_modules/nltk/chat/util.html"
   ]
  }
 ],
 "metadata": {
  "kernelspec": {
   "display_name": "Python 3",
   "language": "python",
   "name": "python3"
  },
  "language_info": {
   "codemirror_mode": {
    "name": "ipython",
    "version": 3
   },
   "file_extension": ".py",
   "mimetype": "text/x-python",
   "name": "python",
   "nbconvert_exporter": "python",
   "pygments_lexer": "ipython3",
   "version": "3.8.8"
  }
 },
 "nbformat": 4,
 "nbformat_minor": 5
}
