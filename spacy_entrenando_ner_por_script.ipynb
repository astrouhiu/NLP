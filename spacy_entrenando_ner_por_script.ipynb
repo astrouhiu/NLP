{
 "cells": [
  {
   "cell_type": "markdown",
   "id": "a5a26ae8",
   "metadata": {},
   "source": [
    "# Creando un Modelo Personalizado para NER"
   ]
  },
  {
   "cell_type": "markdown",
   "id": "a6e10bd8",
   "metadata": {},
   "source": [
    "* Las entidades no pueden superponerse, por lo que cada token solo puede ser parte de una entidad.\n",
    "* También es muy importante que el modelo aprenda palabras que *no* son entidades. En este caso las anotaciones serán vacías.\n",
    "* El objetivo es enseñar al modelo a reconocer nuevas labels en contextos similares, incluso si no estaban en los datos de entrenamiento."
   ]
  },
  {
   "cell_type": "markdown",
   "id": "28c96ee5",
   "metadata": {},
   "source": [
    "## Generando Datos de Entrenamiento"
   ]
  },
  {
   "cell_type": "code",
   "execution_count": 1,
   "id": "c9d430d1",
   "metadata": {},
   "outputs": [
    {
     "name": "stdout",
     "output_type": "stream",
     "text": [
      "['tok2vec', 'morphologizer']\n",
      "['tok2vec', 'morphologizer', 'entity_ruler']\n",
      "\n",
      "[('el planeta 9 es un planeta hipotético en el sistema solar externo. ', {'entities': [(3, 12, 'Planeta')]}), ('trujillo y shepherd analizaron las órbitas de tnos con perihelio superior a 30 au y un semieje mayor más grande que 150 au', {'entities': [(76, 81, 'Magnitud'), (116, 122, 'Magnitud')]}), ('el semieje mayor propuesto de su órbita varía entre 700 - 1500 au. ', {'entities': [(52, 65, 'Intervalo')]}), ('brown ha declarado: \"en realidad lo llamamos “fattie” (gordito) cuando estamos hablando entre nosotros\". ', {'entities': []}), ('la capacidad para detectar el planeta nueve dependería de su ubicación y características. ', {'entities': [(30, 43, 'Planeta')]}), ('la existencia de este planeta puede inferirse por el comportamiento de un grupo de objetos transneptunianos.', {'entities': []})]\n"
     ]
    }
   ],
   "source": [
    "import spacy\n",
    "\n",
    "nlp = spacy.load(\"pt_core_news_lg\", \n",
    "                 disable = [\"parser\", \"attribute_ruler\", \"lemmatizer\", \"ner\"])\n",
    "\n",
    "print(nlp.pipe_names)\n",
    "ruler = nlp.add_pipe(\"entity_ruler\")\n",
    "\n",
    "un = [\"km\", \"au\"]\n",
    "planets = [\"mercurio\", \"venus\", \"tierra\", \"marte\", \"júpiter\", \"saturno\", \"urano\", \"neptuno\"]\n",
    "\n",
    "patterns = [{\"label\": \"Intervalo\",\n",
    "             \"pattern\": [{\"POS\": \"NUM\"}, \n",
    "                         {\"OP\": \"?\", \"TEXT\": {\"IN\": un}}, \n",
    "                         {\"LOWER\": {\"IN\": [\"a\", \"hasta\", \"-\"]}}, \n",
    "                         {\"POS\": \"NUM\"}, \n",
    "                         {\"TEXT\": {\"IN\": un}}     \n",
    "                         ]\n",
    "            },\n",
    "            {\"label\": \"Magnitud\", \n",
    "             \"pattern\": [{\"POS\": \"NUM\"},\n",
    "                         {\"TEXT\": {\"IN\": un}}\n",
    "                         ]\n",
    "            },\n",
    "            {\"label\": \"Planeta\",\n",
    "             \"pattern\": [{\"TEXT\": {\"IN\": planets}}]\n",
    "            },\n",
    "            {\n",
    "            \"label\": \"Planeta\",\n",
    "            \"pattern\": [{\"TEXT\": \"planeta\"},\n",
    "                        {\"TEXT\": {\"IN\": [\"9\", \"nueve\"]}}\n",
    "                        ]             \n",
    "            }\n",
    "            ]\n",
    "    \n",
    "ruler.add_patterns(patterns)\n",
    "print(nlp.pipe_names, end = \"\\n\\n\")\n",
    "\n",
    "TEXTS = [\"El Planeta 9 es un planeta hipotético en el sistema solar externo. \",\n",
    "         \"Trujillo y Shepherd analizaron las órbitas de TNOs con perihelio superior a 30 au y un semieje mayor \"\n",
    "         \"más grande que 150 au\",\n",
    "         \"El semieje mayor propuesto de su órbita varía entre 700 - 1500 au. \",\n",
    "         'Brown ha declarado: \"En realidad lo llamamos “Fattie” (Gordito) cuando estamos hablando entre nosotros\". ',\n",
    "         \"La capacidad para detectar el Planeta Nueve dependería de su ubicación y características. \",\n",
    "         \"La existencia de este planeta puede inferirse por el comportamiento de un grupo de objetos \"\n",
    "         \"transneptunianos.\"\n",
    "        ]\n",
    "\n",
    "TEXTS = [i.lower() for i in TEXTS]\n",
    "    \n",
    "TRAINING_DATA = []\n",
    "\n",
    "for doc in nlp.pipe(TEXTS):\n",
    "    spans = []\n",
    "    for ent in doc.ents:\n",
    "        span = {\"start\": ent.start_char, \"end\": ent.end_char, \"label\": ent.label}\n",
    "        spans.append(span)    \n",
    "    entities = [(span[\"start\"], span[\"end\"], doc.vocab.strings[span[\"label\"]]) for span in spans]     \n",
    "    training_example = (doc.text, {\"entities\": entities})\n",
    "    TRAINING_DATA.append(training_example)       \n",
    "    \n",
    "print(TRAINING_DATA)    "
   ]
  },
  {
   "cell_type": "markdown",
   "id": "88715a07",
   "metadata": {},
   "source": [
    "## Entrenamiento"
   ]
  },
  {
   "cell_type": "code",
   "execution_count": 2,
   "id": "99e2e63a",
   "metadata": {},
   "outputs": [
    {
     "name": "stdout",
     "output_type": "stream",
     "text": [
      "[]\n",
      "['ner']\n",
      "{'ner': 88.2028016448021}\n",
      "{'ner': 31.50350563475513}\n",
      "{'ner': 8.99412269949535}\n",
      "{'ner': 13.980763114610898}\n",
      "{'ner': 6.482054722926021}\n",
      "{'ner': 25.618301453932347}\n",
      "{'ner': 10.68182820707882}\n",
      "{'ner': 5.5007339502598285}\n",
      "{'ner': 3.2760314582196006}\n",
      "{'ner': 2.967404100743649}\n"
     ]
    }
   ],
   "source": [
    "import random\n",
    "from spacy.training import Example\n",
    "\n",
    "labels = [\"Intervalo\", \"Magnitud\", \"Planeta\"]\n",
    "\n",
    "nlp = spacy.blank(\"es\")\n",
    "print(nlp.pipe_names)\n",
    "\n",
    "ner = nlp.add_pipe(\"ner\")\n",
    "print(nlp.pipe_names)\n",
    "\n",
    "for ent in labels:\n",
    "    ner.add_label(ent)\n",
    "\n",
    "other_pipes = [pipe for pipe in nlp.pipe_names if pipe != \"ner\"]\n",
    "\n",
    "with nlp.disable_pipes(*other_pipes):\n",
    "    \n",
    "    # Iniciar el entrenamiento    \n",
    "    optimizer = nlp.begin_training()\n",
    "\n",
    "    # Ciclo de 10 iteraciones\n",
    "    for itn in range(10):\n",
    "        # Barajar los dados de entrenamiento\n",
    "        random.shuffle(TRAINING_DATA)\n",
    "        losses = {}\n",
    "        \n",
    "        for text, annotation in TRAINING_DATA:\n",
    "            doc = nlp.make_doc(text)\n",
    "            example = Example.from_dict(doc, annotation)\n",
    "            nlp.update([example], sgd = optimizer, losses = losses)\n",
    "\n",
    "        print(losses)"
   ]
  },
  {
   "cell_type": "code",
   "execution_count": 3,
   "id": "15500f44",
   "metadata": {},
   "outputs": [
    {
     "data": {
      "text/plain": [
       "[('60 - 100 au', 'Intervalo'), ('planeta 9', 'Planeta')]"
      ]
     },
     "execution_count": 3,
     "metadata": {},
     "output_type": "execute_result"
    }
   ],
   "source": [
    "doc = nlp(\"Podría haber un pequeño planeta entre 60 - 100 au (además del Planeta 9).\".lower())\n",
    "[(ent.text, ent.label_) for ent in doc.ents]"
   ]
  }
 ],
 "metadata": {
  "kernelspec": {
   "display_name": "Python 3",
   "language": "python",
   "name": "python3"
  },
  "language_info": {
   "codemirror_mode": {
    "name": "ipython",
    "version": 3
   },
   "file_extension": ".py",
   "mimetype": "text/x-python",
   "name": "python",
   "nbconvert_exporter": "python",
   "pygments_lexer": "ipython3",
   "version": "3.8.8"
  }
 },
 "nbformat": 4,
 "nbformat_minor": 5
}
